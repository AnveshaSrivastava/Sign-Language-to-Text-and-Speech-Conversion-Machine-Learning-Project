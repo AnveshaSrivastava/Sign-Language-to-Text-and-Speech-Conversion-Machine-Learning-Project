{
 "cells": [
  {
   "cell_type": "code",
   "execution_count": 1,
   "metadata": {},
   "outputs": [
    {
     "ename": "error",
     "evalue": "OpenCV(4.9.0) D:\\a\\opencv-python\\opencv-python\\opencv\\modules\\imgproc\\src\\color.cpp:196: error: (-215:Assertion failed) !_src.empty() in function 'cv::cvtColor'\n",
     "output_type": "error",
     "traceback": [
      "\u001b[1;31m---------------------------------------------------------------------------\u001b[0m",
      "\u001b[1;31merror\u001b[0m                                     Traceback (most recent call last)",
      "Cell \u001b[1;32mIn[1], line 34\u001b[0m\n\u001b[0;32m     31\u001b[0m ret, frame \u001b[38;5;241m=\u001b[39m cap\u001b[38;5;241m.\u001b[39mread()  \u001b[38;5;66;03m# Capture frame from the webcam\u001b[39;00m\n\u001b[0;32m     33\u001b[0m \u001b[38;5;66;03m# Preprocess the frame\u001b[39;00m\n\u001b[1;32m---> 34\u001b[0m scaled \u001b[38;5;241m=\u001b[39m preprocess_frame(frame)\n\u001b[0;32m     36\u001b[0m \u001b[38;5;66;03m# Make predictions using the loaded KNN model\u001b[39;00m\n\u001b[0;32m     37\u001b[0m prediction \u001b[38;5;241m=\u001b[39m loaded_knn_model\u001b[38;5;241m.\u001b[39mpredict(scaled)\n",
      "Cell \u001b[1;32mIn[1], line 23\u001b[0m, in \u001b[0;36mpreprocess_frame\u001b[1;34m(frame)\u001b[0m\n\u001b[0;32m     22\u001b[0m \u001b[38;5;28;01mdef\u001b[39;00m \u001b[38;5;21mpreprocess_frame\u001b[39m(frame):\n\u001b[1;32m---> 23\u001b[0m     gray \u001b[38;5;241m=\u001b[39m cv2\u001b[38;5;241m.\u001b[39mcvtColor(frame, cv2\u001b[38;5;241m.\u001b[39mCOLOR_BGR2GRAY)  \u001b[38;5;66;03m# Convert to grayscale\u001b[39;00m\n\u001b[0;32m     24\u001b[0m     resized \u001b[38;5;241m=\u001b[39m cv2\u001b[38;5;241m.\u001b[39mresize(gray, (\u001b[38;5;241m28\u001b[39m, \u001b[38;5;241m28\u001b[39m))  \u001b[38;5;66;03m# Resize to match the model's input size\u001b[39;00m\n\u001b[0;32m     25\u001b[0m     flattened \u001b[38;5;241m=\u001b[39m resized\u001b[38;5;241m.\u001b[39mflatten()\u001b[38;5;241m.\u001b[39mreshape(\u001b[38;5;241m1\u001b[39m, \u001b[38;5;241m-\u001b[39m\u001b[38;5;241m1\u001b[39m)  \u001b[38;5;66;03m# Flatten and reshape to a single row\u001b[39;00m\n",
      "\u001b[1;31merror\u001b[0m: OpenCV(4.9.0) D:\\a\\opencv-python\\opencv-python\\opencv\\modules\\imgproc\\src\\color.cpp:196: error: (-215:Assertion failed) !_src.empty() in function 'cv::cvtColor'\n"
     ]
    },
    {
     "ename": "",
     "evalue": "",
     "output_type": "error",
     "traceback": [
      "\u001b[1;31mThe Kernel crashed while executing code in the current cell or a previous cell. \n",
      "\u001b[1;31mPlease review the code in the cell(s) to identify a possible cause of the failure. \n",
      "\u001b[1;31mClick <a href='https://aka.ms/vscodeJupyterKernelCrash'>here</a> for more info. \n",
      "\u001b[1;31mView Jupyter <a href='command:jupyter.viewOutput'>log</a> for further details."
     ]
    }
   ],
   "source": [
    "import cv2\n",
    "import numpy as np\n",
    "from sklearn.preprocessing import StandardScaler\n",
    "import joblib\n",
    "\n",
    "# Load the saved KNN model and StandardScaler object\n",
    "loaded_knn_model = joblib.load('knn_model.pkl')\n",
    "scaler = joblib.load('scaler.pkl')  # Assuming you saved the scaler object as 'scaler.pkl'\n",
    "\n",
    "# Initialize the webcam\n",
    "cap = cv2.VideoCapture(0)\n",
    "\n",
    "# Create a window to display the webcam feed\n",
    "cv2.namedWindow(\"Webcam Feed\")\n",
    "\n",
    "# Map of label index to corresponding sign language letter\n",
    "label_map = ['A', 'B', 'C', 'D', 'E', 'F', 'G', 'H', 'I', 'J', 'K', 'L', 'M',\n",
    "             'N', 'O', 'P', 'Q', 'R', 'S', 'T', 'U', 'V', 'W', 'X', 'Y', 'Z']\n",
    "\n",
    "# Function to preprocess the frame\n",
    "def preprocess_frame(frame):\n",
    "    gray = cv2.cvtColor(frame, cv2.COLOR_BGR2GRAY)  # Convert to grayscale\n",
    "    resized = cv2.resize(gray, (28, 28))  # Resize to match the model's input size\n",
    "    flattened = resized.flatten().reshape(1, -1)  # Flatten and reshape to a single row\n",
    "    scaled = scaler.transform(flattened)  # Standardize the features\n",
    "    return scaled\n",
    "\n",
    "# Capture and process frames from the webcam\n",
    "while True:\n",
    "    ret, frame = cap.read()  # Capture frame from the webcam\n",
    "    \n",
    "    # Preprocess the frame\n",
    "    scaled = preprocess_frame(frame)\n",
    "    \n",
    "    # Make predictions using the loaded KNN model\n",
    "    prediction = loaded_knn_model.predict(scaled)\n",
    "    gesture_label = label_map[int(prediction)]\n",
    "    \n",
    "    # Display the predicted gesture label on the frame\n",
    "    cv2.putText(frame, gesture_label, (10, 50), cv2.FONT_HERSHEY_SIMPLEX, 1, (0, 255, 0), 2)\n",
    "    \n",
    "    # Display the frame\n",
    "    cv2.imshow(\"Webcam Feed\", frame)\n",
    "    \n",
    "    # Break the loop if 'q' is pressed\n",
    "    if cv2.waitKey(1) & 0xFF == ord('q'):\n",
    "        break\n",
    "\n",
    "# Release the webcam and close the window\n",
    "cap.release()\n",
    "cv2.destroyAllWindows()\n"
   ]
  },
  {
   "cell_type": "code",
   "execution_count": null,
   "metadata": {},
   "outputs": [],
   "source": []
  }
 ],
 "metadata": {
  "kernelspec": {
   "display_name": "kanji",
   "language": "python",
   "name": "python3"
  },
  "language_info": {
   "codemirror_mode": {
    "name": "ipython",
    "version": 3
   },
   "file_extension": ".py",
   "mimetype": "text/x-python",
   "name": "python",
   "nbconvert_exporter": "python",
   "pygments_lexer": "ipython3",
   "version": "3.11.8"
  }
 },
 "nbformat": 4,
 "nbformat_minor": 2
}
